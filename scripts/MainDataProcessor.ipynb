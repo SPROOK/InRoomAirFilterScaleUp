{
 "cells": [
  {
   "cell_type": "markdown",
   "metadata": {
    "id": "cpm2Slwd2QGe"
   },
   "source": [
    "### 1. Survey Combiner\n",
    "##### This script combines all ECW data and executes the methods outline in the flow charts perscribed in the data methods folder. Throughout the script exerpts are commented out but can be uncommeneted if you wish to see the data at that stage."
   ]
  },
  {
   "cell_type": "code",
   "execution_count": 90,
   "metadata": {
    "colab": {
     "base_uri": "https://localhost:8080/"
    },
    "id": "y6JQWokCxl_r",
    "outputId": "dec44644-259c-4a41-fe01-af9a0b2ed256"
   },
   "outputs": [],
   "source": [
    "import pandas as pd\n",
    "import country_converter as coco\n",
    "import sys\n",
    "import os\n",
    "from pathlib import Path\n",
    "cc = coco.CountryConverter()\n",
    "\n",
    "# create file paths\n",
    "cwd = Path.cwd()\n",
    "data_folder = cwd.parent / \"data\"\n",
    "isco_08_poll_binary_PATH = data_folder / \"ISCO-08 OpinionPollCensus.xlsx\"\n",
    "onet_context_by_soc_code_PATH = data_folder / \"Indoors_Environmentally_Controlled_data.csv\"\n",
    "soc_isco_crosswalk_PATH = data_folder / \"ISCO_SOC_Crosswalk.csv\"\n",
    "ilo_employment_by_isco_08_l2_PATH = data_folder / \"ILO_ISCO_08_GLB.csv\"\n",
    "world_bank_labour_force_by_country_PATH = data_folder / \"LFData_WB_plus.xlsx\"\n",
    "\n"
   ]
  },
  {
   "cell_type": "markdown",
   "metadata": {
    "id": "X3anVP4gcGu4"
   },
   "source": [
    "#### 1.1Reading/Processing ISCO-08 Poll results from the complete excel (found in the data folder)"
   ]
  },
  {
   "cell_type": "code",
   "execution_count": 91,
   "metadata": {
    "colab": {
     "base_uri": "https://localhost:8080/"
    },
    "id": "hbiDyIUHybuc",
    "outputId": "cda85d92-801d-4473-8f2b-53e6bf734a21"
   },
   "outputs": [
    {
     "name": "stderr",
     "output_type": "stream",
     "text": [
      "C:\\Users\\seabr\\AppData\\Local\\Temp\\ipykernel_72612\\817295888.py:3: SettingWithCopyWarning: \n",
      "A value is trying to be set on a copy of a slice from a DataFrame.\n",
      "Try using .loc[row_indexer,col_indexer] = value instead\n",
      "\n",
      "See the caveats in the documentation: https://pandas.pydata.org/pandas-docs/stable/user_guide/indexing.html#returning-a-view-versus-a-copy\n",
      "  isco_08_poll_binary_df['ISCO-08'] = isco_08_poll_binary_df['ISCO-08'].astype(str).str.zfill(4)\n"
     ]
    }
   ],
   "source": [
    "df = pd.read_excel(isco_08_poll_binary_PATH, engine=\"openpyxl\")\n",
    "isco_08_poll_binary_df = df[['ISCO-08','Census']]\n",
    "isco_08_poll_binary_df['ISCO-08'] = isco_08_poll_binary_df['ISCO-08'].astype(str).str.zfill(4)\n",
    "isco_08_poll_binary_df = isco_08_poll_binary_df.set_index('ISCO-08')"
   ]
  },
  {
   "cell_type": "code",
   "execution_count": 92,
   "metadata": {
    "id": "QbBlNBvbaAQK"
   },
   "outputs": [],
   "source": [
    "#isco_08_poll_binary_df"
   ]
  },
  {
   "cell_type": "markdown",
   "metadata": {
    "id": "isg696KGc_-i"
   },
   "source": [
    "#### 1.2 Reading/Processing ONET data on Indoor/Outdoor Context (found in the Data folder)"
   ]
  },
  {
   "cell_type": "code",
   "execution_count": 93,
   "metadata": {
    "id": "tH1x5qSRP8kb"
   },
   "outputs": [],
   "source": [
    "onet_context_by_soc_code_df = pd.read_csv(onet_context_by_soc_code_PATH)\n",
    "onet_context_by_soc_code_df = onet_context_by_soc_code_df[['Context','Code']] # only keep nessesary columns\n",
    "# NO ARMY INCLUDED, Use Blue Print results"
   ]
  },
  {
   "cell_type": "markdown",
   "metadata": {
    "id": "f5aWAbSrdY3K"
   },
   "source": [
    "#### 1.3 Reading/Processing SOC - ISCO-08 crosswalk, i.e. the map between codes (found in the Data folder)"
   ]
  },
  {
   "cell_type": "code",
   "execution_count": 94,
   "metadata": {
    "id": "mCfkLWVdQI1l"
   },
   "outputs": [],
   "source": [
    "soc_isco_crosswalk_df = pd.read_csv(soc_isco_crosswalk_PATH)\n",
    "soc_isco_crosswalk_df = soc_isco_crosswalk_df[['2010 SOC Code','ISCO-08 Code']]\n",
    "soc_isco_crosswalk_df['ISCO-08 Code'] = soc_isco_crosswalk_df['ISCO-08 Code'].astype(str)\n",
    "# '''Bureau of Labor Statistics,,,,,\n",
    "# On behalf of the Standard Occupational Classification Policy Committee (SOCPC),,,,,\n",
    "# ,,,,,\n",
    "# August 2012 (Updated June 2015),,,,,\n",
    "# Questions should be emailed to soc@bls.gov'''\n",
    "# note some are mapped to level 3 ISCO-08 codes, hence it should be truncated"
   ]
  },
  {
   "cell_type": "code",
   "execution_count": 95,
   "metadata": {
    "id": "ps6RtTgWrl33"
   },
   "outputs": [],
   "source": [
    "#soc_isco_crosswalk_df"
   ]
  },
  {
   "cell_type": "code",
   "execution_count": 96,
   "metadata": {
    "id": "ApcYSi0th7dq"
   },
   "outputs": [],
   "source": [
    "soc_isco_crosswalk_dict = soc_isco_crosswalk_df.set_index('2010 SOC Code')['ISCO-08 Code'].to_dict()"
   ]
  },
  {
   "cell_type": "code",
   "execution_count": 97,
   "metadata": {
    "id": "SScKVjA-jUxZ"
   },
   "outputs": [],
   "source": [
    "onet_context_by_soc_code_df['Code'] = onet_context_by_soc_code_df['Code'].astype(str).str.split('.').str[0]\n",
    "onet_context_by_soc_code_df['Context'] = onet_context_by_soc_code_df['Context']/100\n",
    "onet_context_by_soc_code_dict = onet_context_by_soc_code_df.set_index('Code')['Context'].to_dict()"
   ]
  },
  {
   "cell_type": "code",
   "execution_count": 98,
   "metadata": {
    "id": "YZFP6zlpOg0a"
   },
   "outputs": [],
   "source": [
    "ISCO_CONTEXT_InOutdoor_dict = {}\n",
    "ONET_CODES_NOT_IN_MAP_dict = {} # if the Onet codes is not in the SOC Map it will be attached to a list of codes in the same 2-digit SOC group and added to the ISCO-08 2 digit codes further on\n",
    "for k , v in onet_context_by_soc_code_dict.items():\n",
    "  try:\n",
    "    if k in ISCO_CONTEXT_InOutdoor_dict.keys(): soc_isco_crosswalk_dict[k].append(v)\n",
    "    else: ISCO_CONTEXT_InOutdoor_dict[soc_isco_crosswalk_dict[k]] = [v]\n",
    "  except:\n",
    "    if k[:2] not in ONET_CODES_NOT_IN_MAP_dict.keys(): ONET_CODES_NOT_IN_MAP_dict[k[:2]] = [v]\n",
    "    else: ONET_CODES_NOT_IN_MAP_dict[k[:2]].append(v)\n",
    "    for i,v in soc_isco_crosswalk_dict.items():\n",
    "      zone_list = []\n",
    "      if k[:2] in i:\n",
    "        zone_list.append(v)\n",
    "\n",
    "L2_SOC_L2_ISCO_map = {}\n",
    "for k in soc_isco_crosswalk_dict.keys():\n",
    "  if k[:2] in ONET_CODES_NOT_IN_MAP_dict.keys():\n",
    "    if k[:2] not in L2_SOC_L2_ISCO_map.keys(): L2_SOC_L2_ISCO_map[k[:2]] = [soc_isco_crosswalk_dict[k][:2]]\n",
    "    else: L2_SOC_L2_ISCO_map[k[:2]].append(soc_isco_crosswalk_dict[k][:2])\n",
    "\n",
    "L2_ISCO_MISSING = {}\n",
    "for k, v in ONET_CODES_NOT_IN_MAP_dict.items():\n",
    "  L2_ISCO_MISSING[max(L2_SOC_L2_ISCO_map[k], key=L2_SOC_L2_ISCO_map[k].count)] = v"
   ]
  },
  {
   "cell_type": "code",
   "execution_count": 99,
   "metadata": {
    "id": "TgffwLNrUGaj"
   },
   "outputs": [],
   "source": [
    "ISCO_CONTEXT_InOutdoor_df = pd.DataFrame.from_dict(ISCO_CONTEXT_InOutdoor_dict, orient='index', columns=['Context'])\n",
    "ISCO_CONTEXT_InOutdoor_df.index.name = 'ISCO-08 Code'"
   ]
  },
  {
   "cell_type": "markdown",
   "metadata": {
    "id": "DQgJ6S3xURZ7"
   },
   "source": [
    "#### 1.4 Collapse the Indoor / Outdoor Context Data to the Level 2 ISCO codes\n"
   ]
  },
  {
   "cell_type": "code",
   "execution_count": 100,
   "metadata": {
    "id": "4iXCBdUi-LAv"
   },
   "outputs": [],
   "source": [
    "abs_level = 2  # Truncated to the 2 digit level\n",
    "\n",
    "# Ensure codes are of the same format before mereg\n",
    "L = isco_08_poll_binary_df.copy()\n",
    "R = ISCO_CONTEXT_InOutdoor_df.copy()\n",
    "L.index = L.index.astype(str).str.zfill(4)\n",
    "R.index = R.index.astype(str).str.zfill(4)\n",
    "\n",
    "# Merge\n",
    "df = pd.merge(L, R, left_index=True, right_index=True, how='left')\n",
    "\n",
    "# Clean up null errors\n",
    "df['Context'] = pd.to_numeric(df.get('Context'), errors='coerce')\n",
    "df['Census']  = pd.to_numeric(df.get('Census'),  errors='coerce')\n",
    "\n",
    "# Collapse by the mean of its level, if not take the mean of the level above\n",
    "df['_L3'] = df.index.str[:3]\n",
    "df['_L2'] = df.index.str[:2]\n",
    "df['_L1'] = df.index.str[:1]\n",
    "\n",
    "mean_L3  = df.groupby('_L3')['Context'].transform('mean')\n",
    "mean_L2  = df.groupby('_L2')['Context'].transform('mean')\n",
    "mean_L1  = df.groupby('_L1')['Context'].transform('mean')\n",
    "mean_all = df['Context'].mean()\n",
    "\n",
    "df['Context Proj'] = (\n",
    "    df['Context']\n",
    "      .fillna(mean_L3)\n",
    "      .fillna(mean_L2)\n",
    "      .fillna(mean_L1)\n",
    ")\n",
    "\n",
    "\n",
    "# Manual overrides\n",
    "overrides = ['0110', '0210', '0310']\n",
    "df.loc[overrides, 'Context Proj'] = 1\n",
    "\n",
    "# Tidy Up\n",
    "df.drop(columns=['_L3','_L2','_L1', 'Context'], inplace=True)\n",
    "\n",
    "ISCO_LVL4_ECW_WEIGHTS = df"
   ]
  },
  {
   "cell_type": "code",
   "execution_count": 101,
   "metadata": {
    "id": "jx3TuhvgFA6M"
   },
   "outputs": [],
   "source": [
    "#ISCO_LVL4_ECW_WEIGHTS"
   ]
  },
  {
   "cell_type": "code",
   "execution_count": 102,
   "metadata": {
    "id": "kZgrE2f3-cZS"
   },
   "outputs": [],
   "source": [
    "abs_level = 2  # Truncte to the 2 digit level\n",
    "\n",
    "df = ISCO_LVL4_ECW_WEIGHTS.copy()\n",
    "df.index = df.index.astype(str).str.zfill(4)\n",
    "\n",
    "# Group to level 2\n",
    "ISCO_LVL2_ECW_WEIGHTS = (\n",
    "    df.assign(ISCO_trunc=df.index.str[:abs_level])\n",
    "      .groupby('ISCO_trunc')\n",
    "      .agg({\n",
    "          'Census': 'mean',\n",
    "          'Context Proj': 'mean'\n",
    "      })\n",
    "      .rename_axis('ISCO-08')\n",
    "      .rename(columns={'Census': 'Critical Weight POLL'})\n",
    ")\n",
    "\n",
    "# Add Critical Weights from the ILO paper for the upper bound.\n",
    "# Binary 1 / 0 rather then continuous values\n",
    "ILO_LVL2_ECW_GROUPS = [61,62,63,92,94,22,32,53,52,95,54,71,72,73,74,75,81,82,93,91,96,83,31,44,51,1,2,3]\n",
    "\n",
    "# Ensure entrys are integers\n",
    "ISCO_LVL2_ECW_WEIGHTS['Critical Weight ILO'] = (\n",
    "    ISCO_LVL2_ECW_WEIGHTS.index.astype(int)\n",
    "    .isin(ILO_LVL2_ECW_GROUPS)\n",
    "    .astype(int)\n",
    ")\n"
   ]
  },
  {
   "cell_type": "code",
   "execution_count": 103,
   "metadata": {
    "id": "tRx3JK0lFq1T"
   },
   "outputs": [],
   "source": [
    "#ISCO_LVL2_ECW_WEIGHTS"
   ]
  },
  {
   "cell_type": "code",
   "execution_count": 104,
   "metadata": {
    "id": "95a270ef"
   },
   "outputs": [],
   "source": [
    "farms = ISCO_LVL2_ECW_WEIGHTS.loc['62'] # Extrapolate all farming related roles from the single farming,\n",
    "ISCO_LVL2_ECW_WEIGHTS.loc['61'] = farms # as the Indoor / Outdoor context is missing this data point\n",
    "ISCO_LVL2_ECW_WEIGHTS.loc['63'] = 0 # Equate Subsitance farmers to 100% outdoor (Assumed as its not an industrial process)"
   ]
  },
  {
   "cell_type": "code",
   "execution_count": 105,
   "metadata": {
    "id": "kna6CfKQCyap"
   },
   "outputs": [],
   "source": [
    "# Convert the Series directly to a dictionary\n",
    "ISCO_LVL2_ECW_WEIGHTS[\"ISCO_08_PollWeights\"] = ISCO_LVL2_ECW_WEIGHTS['Critical Weight POLL']*ISCO_LVL2_ECW_WEIGHTS['Context Proj']\n",
    "ISCO_LVL2_ECW_WEIGHTS[\"ISCO_08_ILOWeights\"] = ISCO_LVL2_ECW_WEIGHTS['Critical Weight ILO']*ISCO_LVL2_ECW_WEIGHTS['Context Proj']"
   ]
  },
  {
   "cell_type": "code",
   "execution_count": 106,
   "metadata": {
    "id": "25RR2VOLlDFL"
   },
   "outputs": [],
   "source": [
    "#ISCO_LVL2_ECW_WEIGHTS"
   ]
  },
  {
   "cell_type": "markdown",
   "metadata": {
    "id": "S4xWyp5h3odG"
   },
   "source": [
    "#### 2. The following section extracts the ILO data source and complies a dictionary of countries and the given number of workers employed under each level 2 ISCO-08 code."
   ]
  },
  {
   "cell_type": "code",
   "execution_count": 107,
   "metadata": {
    "id": "qS953YwM2NmD"
   },
   "outputs": [],
   "source": [
    "ILO_df = pd.read_csv(ilo_employment_by_isco_08_l2_PATH)"
   ]
  },
  {
   "cell_type": "code",
   "execution_count": 108,
   "metadata": {
    "id": "HQQn6SO34KCe"
   },
   "outputs": [],
   "source": [
    "ILO_df['ISCO-8 L2 Code'] = ILO_df['classif1.label'].str.split(':').str[1].str[1:4]\n",
    "ILO_df = ILO_df.rename(columns={'ref_area.label': 'Country', 'obs_value': 'Employment (thou)'})\n",
    "ILO_df = ILO_df[['Country', 'ISCO-8 L2 Code', 'Employment (thou)', 'time']]\n",
    "ILO_df['Employment'] = ILO_df['Employment (thou)'] * 1000\n",
    "ILO_df = ILO_df.drop(columns=['Employment (thou)'])\n"
   ]
  },
  {
   "cell_type": "code",
   "execution_count": 109,
   "metadata": {
    "id": "R3OB_Nai4LSb"
   },
   "outputs": [],
   "source": [
    "#ILO_df"
   ]
  },
  {
   "cell_type": "code",
   "execution_count": 110,
   "metadata": {
    "id": "ddorN3w54OnV"
   },
   "outputs": [],
   "source": [
    "EmploymentByISOC8 = {}\n",
    "for _, row in ILO_df.iterrows():\n",
    "    c    = row['Country']\n",
    "    code = row['ISCO-8 L2 Code']\n",
    "    yr   = row['time']\n",
    "    emp  = row['Employment']\n",
    "\n",
    "    EmploymentByISOC8.setdefault(c, {}).setdefault(code, {})[yr] = emp"
   ]
  },
  {
   "cell_type": "code",
   "execution_count": 111,
   "metadata": {
    "id": "NqU7iM5t4Opm"
   },
   "outputs": [],
   "source": [
    "for code_dict in EmploymentByISOC8.values():\n",
    "    for isco_code, year_dict in list(code_dict.items()):\n",
    "        if isinstance(year_dict, dict) and year_dict:\n",
    "            # Filter out NaN values before finding the latest year\n",
    "            valid_years = {year: value for year, value in year_dict.items() if pd.notna(value)}\n",
    "            if valid_years:\n",
    "                latest = max(valid_years)\n",
    "                code_dict[isco_code] = valid_years[latest]\n",
    "            else:\n",
    "                # Handle cases where all values for a given ISCO code are NaN\n",
    "                code_dict[isco_code] = None # Or some other appropriate value"
   ]
  },
  {
   "cell_type": "code",
   "execution_count": 112,
   "metadata": {
    "id": "UG-Yyz3M4U1Q"
   },
   "outputs": [],
   "source": [
    "# Convert the Series directly to a dictionary\n",
    "ISCO_08_PollWeights = ISCO_LVL2_ECW_WEIGHTS['ISCO_08_PollWeights'].to_dict()\n",
    "ISCO_08_ILOWeights = ISCO_LVL2_ECW_WEIGHTS['ISCO_08_ILOWeights'].to_dict()\n"
   ]
  },
  {
   "cell_type": "code",
   "execution_count": 113,
   "metadata": {
    "id": "6K8zU4ypkY8y"
   },
   "outputs": [],
   "source": [
    "#ISCO_08_PollWeights"
   ]
  },
  {
   "cell_type": "code",
   "execution_count": 114,
   "metadata": {
    "id": "fLhY3Cnd4U3d"
   },
   "outputs": [],
   "source": [
    "ECW_dict_Poll = {}\n",
    "\n",
    "# Iterate through the nested_dict\n",
    "for country, employment_dict in EmploymentByISOC8.items():\n",
    "    ECW_dict_Poll[country] = {} # Initialize dictionary for the country\n",
    "    for isco_code, employment in employment_dict.items():\n",
    "        # Ensure isco_code is a string and strip whitespace for lookup\n",
    "        isco_code_str = str(isco_code).strip()\n",
    "\n",
    "        # Check if the ISCO code exists in the weights dictionary and employment is not NaN\n",
    "        # The isco_weights dictionary keys are now strings (fixed in cell 4467391f)\n",
    "        if isco_code_str in ISCO_08_PollWeights.keys() and pd.notna(employment):\n",
    "            weight = ISCO_08_PollWeights[isco_code_str]\n",
    "            # Check if both weight and employment are numeric before multiplication\n",
    "            if pd.notna(weight):\n",
    "                critical_employment = employment * weight\n",
    "            else: critical_employment = 0\n",
    "            ECW_dict_Poll[country][isco_code_str] = critical_employment # Use stripped code as key\n",
    "        pass # print(f\"Skipping {isco_code} in {country}: Weight missing or Employment is NaN\")"
   ]
  },
  {
   "cell_type": "code",
   "execution_count": 115,
   "metadata": {
    "id": "o_r3Sxnlb5S7"
   },
   "outputs": [],
   "source": [
    "# Calculate critical employment by multiplying employment by the weights\n",
    "ECW_dict_ILO = {}\n",
    "\n",
    "# Iterate through the nested_dict (which has structure {'Country': {ISCO Code: Employment}})\n",
    "for country, employment_dict in EmploymentByISOC8.items():\n",
    "    ECW_dict_ILO[country] = {} # Initialize dictionary for the country\n",
    "    for isco_code, employment in employment_dict.items():\n",
    "        # Ensure isco_code is a string and strip whitespace for lookup\n",
    "        isco_code_str = str(isco_code).strip()\n",
    "\n",
    "        # Check if the ISCO code exists in the weights dictionary and employment is not NaN\n",
    "        # The isco_weights dictionary keys are now strings (fixed in cell 4467391f)\n",
    "        if isco_code_str in ISCO_08_ILOWeights.keys() and pd.notna(employment):\n",
    "            weight = ISCO_08_ILOWeights[isco_code_str]\n",
    "            # Check if both weight and employment are numeric before multiplication\n",
    "            if pd.notna(weight):\n",
    "                critical_employment = employment * weight\n",
    "            else: critical_employment = 0\n",
    "            ECW_dict_ILO[country][isco_code_str] = critical_employment # Use stripped code as key\n",
    "        pass # print(f\"Skipping {isco_code} in {country}: Weight missing or Employment is NaN\")"
   ]
  },
  {
   "cell_type": "code",
   "execution_count": 116,
   "metadata": {
    "id": "F-FuNkGp4U5c"
   },
   "outputs": [],
   "source": [
    "#ECW_dict_ILO['Australia']\n",
    "#ECW_dict_Poll"
   ]
  },
  {
   "cell_type": "code",
   "execution_count": 117,
   "metadata": {
    "id": "p1_H-BE75ysW"
   },
   "outputs": [],
   "source": [
    "ECW_ILO = {}\n",
    "\n",
    "for country, isco_data in ECW_dict_ILO.items():\n",
    "    ECW_ILO[country] = sum(isco_data.values())"
   ]
  },
  {
   "cell_type": "code",
   "execution_count": 118,
   "metadata": {
    "id": "wHMFb2WAgh89"
   },
   "outputs": [],
   "source": [
    "ECW_Poll = {}\n",
    "\n",
    "for country, isco_data in ECW_dict_Poll.items():\n",
    "    ECW_Poll[country] = sum(isco_data.values())"
   ]
  },
  {
   "cell_type": "code",
   "execution_count": 119,
   "metadata": {
    "id": "JPBrluxrCQjI"
   },
   "outputs": [],
   "source": [
    "ECW_Poll_pc = {}\n",
    "\n",
    "for country, isco_data in EmploymentByISOC8.items():\n",
    "    total_employment = isco_data['Tot']\n",
    "    ECW_Poll_pc[country] = float(ECW_Poll[country]/total_employment)"
   ]
  },
  {
   "cell_type": "code",
   "execution_count": 120,
   "metadata": {
    "id": "a8721ALUlhcC"
   },
   "outputs": [],
   "source": [
    "ECW_ILO_pc = {}\n",
    "\n",
    "for country, isco_data in EmploymentByISOC8.items():\n",
    "    total_employment = isco_data['Tot']\n",
    "    ECW_ILO_pc[country] = float(ECW_ILO[country]/total_employment)"
   ]
  },
  {
   "cell_type": "code",
   "execution_count": 121,
   "metadata": {
    "id": "CrswEUFiOcPP"
   },
   "outputs": [],
   "source": [
    "#EmploymentByISOC8"
   ]
  },
  {
   "cell_type": "code",
   "execution_count": 122,
   "metadata": {
    "colab": {
     "base_uri": "https://localhost:8080/"
    },
    "id": "tjdtXlIfCUmq",
    "outputId": "92ee9b67-9b20-4c1a-d40b-bc3ebcfa8aa2"
   },
   "outputs": [
    {
     "data": {
      "text/plain": [
       "345779812.3994871"
      ]
     },
     "execution_count": 122,
     "metadata": {},
     "output_type": "execute_result"
    }
   ],
   "source": [
    "sums = []\n",
    "for k,v in ECW_Poll.items():\n",
    "  sums.append(v)\n",
    "sum(sums)"
   ]
  },
  {
   "cell_type": "markdown",
   "metadata": {
    "id": "5GaQorHClO7c"
   },
   "source": [
    "\n",
    "\n",
    "```\n",
    "# This is formatted as code\n",
    "```\n",
    "\n",
    "# 3 Labour Force Data\n"
   ]
  },
  {
   "cell_type": "markdown",
   "metadata": {
    "id": "DuVJcfxXovoG"
   },
   "source": [
    "##### 3.1 Import the most recent figures for labour force by ISO-3 countries. Missing countrys labour forces were manually aquired and there soruces can be found the in the \"LFData_WB_plus.xlsx\" sheet in the data folder"
   ]
  },
  {
   "cell_type": "code",
   "execution_count": 123,
   "metadata": {
    "id": "2f-zFlvv7KC5"
   },
   "outputs": [],
   "source": [
    "labourForce_df = pd.read_excel(world_bank_labour_force_by_country_PATH, usecols=[0, 1, 4])"
   ]
  },
  {
   "cell_type": "code",
   "execution_count": 124,
   "metadata": {
    "colab": {
     "base_uri": "https://localhost:8080/"
    },
    "id": "hv81sXtYO7S7",
    "outputId": "604af692-cc6b-496e-dc45-268dc79f6c78"
   },
   "outputs": [
    {
     "name": "stderr",
     "output_type": "stream",
     "text": [
      "Channel Islands not found in regex\n",
      "Nan not found in ISO3\n",
      "Nan not found in ISO3\n"
     ]
    }
   ],
   "source": [
    "labourForce_df['Region'] = cc.convert(labourForce_df['Country Name'].fillna('Nan').astype(str).tolist(), to='UNregion', not_found='not found')\n",
    "labourForce_df.dropna(subset=['Country Name'], inplace=True) # append a column of the countrys UNregion."
   ]
  },
  {
   "cell_type": "code",
   "execution_count": 125,
   "metadata": {
    "id": "wYvO1loiMXsb"
   },
   "outputs": [],
   "source": [
    "# labourForce_df # the full data frame of ECW's by Country from both the Upper\n",
    "# bound (strickly critcal works, aquired form the poll) and the Lower bound\n",
    "# (Covid-style essential worker estimate, ILO-the value of essential work)"
   ]
  },
  {
   "cell_type": "code",
   "execution_count": 126,
   "metadata": {
    "id": "hASY03FDhNdi"
   },
   "outputs": [],
   "source": [
    "for idx, row in labourForce_df.iterrows():\n",
    "    country = row[\"Country Name\"]\n",
    "    if country in ECW_ILO_pc.keys():\n",
    "      labourForce_df.at[idx, \"%ECW ILO\"] = ECW_ILO_pc[country]\n",
    "      labourForce_df.at[idx, \"%ECW Poll\"] = ECW_Poll_pc[country]"
   ]
  },
  {
   "cell_type": "code",
   "execution_count": 127,
   "metadata": {
    "id": "vW06o7yIwYNX"
   },
   "outputs": [
    {
     "name": "stdout",
     "output_type": "stream",
     "text": [
      "Cook Islands\n",
      "Montserrat\n",
      "Niue\n",
      "Tokelau\n",
      "Wallis and Futuna\n"
     ]
    }
   ],
   "source": [
    "for i in ECW_Poll_pc.keys():\n",
    "  if i not in labourForce_df['Country Name'].tolist():\n",
    "    print(i)"
   ]
  },
  {
   "cell_type": "code",
   "execution_count": 128,
   "metadata": {
    "id": "wTmjY7nCjXdP"
   },
   "outputs": [],
   "source": [
    "missing_code_list = []\n",
    "missing_country_list = []\n",
    "for idx, row in labourForce_df.iterrows():\n",
    "    country = row[\"Country Name\"]\n",
    "    code = row[\"Country Code\"]\n",
    "    if pd.isna(row['%ECW ILO']):\n",
    "      missing_code_list.append(code)\n",
    "      missing_country_list.append(country)\n",
    "    if pd.isna(row['%ECW Poll']):\n",
    "      missing_code_list.append(code)\n",
    "      missing_country_list.append(country)"
   ]
  },
  {
   "cell_type": "markdown",
   "metadata": {
    "id": "NuYVW2FOqZek"
   },
   "source": [
    "###### The following dictionary is used to project missing labour force breakdown data (ISCO-08 breakdown), by taking the average of neighbouring countries with similar workfoces and GDP per Capita. The dictionary may need to be run multiple times if there are interdepenacies within the dictionary"
   ]
  },
  {
   "cell_type": "code",
   "execution_count": 129,
   "metadata": {
    "id": "HomGD8bVZh4h"
   },
   "outputs": [],
   "source": [
    "similar_iso3 = {\n",
    "    \"ABW\": [\"CUW\",\"SXM\",\"MHL\"],\n",
    "    \"AIA\": [\"VGB\",\"TCA\",\"MAF\"],\n",
    "    \"AND\": [\"LIE\",\"CYP\",\"MCO\"],\n",
    "    \"ARM\": [\"GEO\",\"AZE\",\"ALB\"],\n",
    "    \"ASM\": [\"GUM\",\"MNP\",\"WSM\"],\n",
    "    \"ATA\": [\"ATF\",\"HMD\",\"SGS\"],\n",
    "    \"ATF\": [\"HMD\",\"BVT\",\"SGS\"],\n",
    "    \"ATG\": [\"KNA\",\"MDG\",\"VCT\"],\n",
    "    \"AZE\": [\"GEO\",\"KAZ\",\"UZB\"],\n",
    "    \"BES\": [\"ABW\",\"CUW\",\"SXM\"],\n",
    "    \"BHR\": [\"ARE\",\"QAT\",\"OMN\"],\n",
    "    \"BLM\": [\"MAF\",\"SXM\",\"GLP\"],\n",
    "    \"BMU\": [\"MHL\"],\n",
    "    \"BVT\": [\"ATF\",\"HMD\",\"SGS\"],\n",
    "    \"CAF\": [\"TCD\",\"SSD\",\"NER\"],\n",
    "    \"CAN\": [\"USA\"],\n",
    "    \"CCK\": [\"CXR\",\"NFK\",\"HMD\"],\n",
    "    \"CHI\": [\"GBR\"],\n",
    "    \"CHN\": [\"JPN\",\"IND\",\"VNM\"],\n",
    "    \"CMR\": [\"COG\",\"GAB\",\"NGA\"],\n",
    "    \"COG\": [\"GAB\",\"CMR\",\"GNQ\"],\n",
    "    \"COM\": [\"MDG\",\"MUS\",\"SYC\"],\n",
    "    \"CPV\": [\"STP\",\"COM\",\"MUS\"],\n",
    "    \"CUB\": [\"JAM\",\"DOM\",\"PRI\"],\n",
    "    \"CUW\": [\"ABW\",\"MHL\"],\n",
    "    \"CXR\": [\"CCK\",\"NFK\",\"HMD\"],\n",
    "    \"CYM\": [\"VGB\",\"TCA\",\"BMU\"],\n",
    "    \"DJI\": [\"ERI\",\"SOM\",\"YEM\"],\n",
    "    \"DMA\": [\"KNA\",\"VCT\",\"LCA\"],\n",
    "    \"DZA\": [\"MAR\",\"TUN\",\"LBY\"],\n",
    "    \"ERI\": [\"DJI\",\"SOM\",\"SDN\"],\n",
    "    \"ESH\": [\"MAR\",\"MRT\",\"DZA\"],\n",
    "    \"FLK\": [\"SGS\",\"SHN\",\"BVT\"],\n",
    "    \"FRO\": [\"ISL\",\"GRL\"],\n",
    "    \"FSM\": [\"MHL\",\"KIR\",\"PLW\"],\n",
    "    \"GAB\": [\"GNQ\",\"COG\",\"AGO\"],\n",
    "    \"GGY\": [\"JEY\",\"IMN\",\"BMU\"],\n",
    "    \"GIB\": [\"MLT\",\"AND\",\"LIE\"],\n",
    "    \"GLP\": [\"MTQ\",\"MAF\",\"BLM\"],\n",
    "    \"GNQ\": [\"GAB\",\"COG\",\"STP\"],\n",
    "    \"GRL\": [\"ISL\",\"FRO\"],\n",
    "    \"GUF\": [\"SUR\",\"GUY\",\"MTQ\"],\n",
    "    \"GUM\": [\"MNP\",\"ASM\",\"PLW\"],\n",
    "    \"HKG\": [\"MAC\",\"SGP\",\"CHN\"],\n",
    "    \"HMD\": [\"ATF\",\"BVT\",\"SGS\"],\n",
    "    \"HTI\": [\"NIC\",\"JAM\",\"HND\"],\n",
    "    \"IMN\": [\"CHI\", \"GBR\"],\n",
    "    \"IOT\": [\"HMD\",\"CCK\",\"CXR\"],\n",
    "    \"JAM\": [\"BRB\",\"TTO\",\"BHS\"],\n",
    "    \"JEY\": [\"GGY\",\"IMN\",\"BMU\"],\n",
    "    \"KAZ\": [\"UZB\",\"TKM\",\"AZE\"],\n",
    "    \"KOR\": [\"JPN\",\"CHN\"],\n",
    "    \"KNA\": [\"ATG\",\"DMA\",\"VCT\"],\n",
    "    \"KWT\": [\"QAT\",\"BHR\",\"OMN\"],\n",
    "    \"LBY\": [\"DZA\",\"TUN\",\"EGY\"],\n",
    "    \"LCA\": [\"VCT\",\"DMA\",\"ATG\"],\n",
    "    \"LIE\": [\"CYP\",\"SMR\",\"MCO\"],\n",
    "    \"MAC\": [\"HKG\",\"SGP\",\"CHN\"],\n",
    "    \"MAF\": [\"SXM\",\"MDG\"],\n",
    "    \"MAR\": [\"TUN\",\"DZA\",\"EGY\"],\n",
    "    \"MCO\": [\"CYP\",\"LIE\",\"SMR\"],\n",
    "    \"MDA\": [\"UKR\",\"GEO\",\"ALB\"],\n",
    "    \"MLT\": [\"CYP\",\"MNE\",\"ISL\"],\n",
    "    \"MNP\": [\"GUM\",\"ASM\",\"PLW\"],\n",
    "    \"MRT\": [\"TCD\",\"NER\"],\n",
    "    \"MTQ\": [\"GLP\",\"MAF\",\"BLM\"],\n",
    "    \"MWI\": [\"MOZ\",\"ZMB\",\"TZA\"],\n",
    "    \"MYS\": [\"THA\",\"IDN\",\"VNM\"],\n",
    "    \"MYT\": [\"REU\",\"COM\",\"MUS\"],\n",
    "    \"NCL\": [\"WSM\"],\n",
    "    \"NFK\": [\"CCK\",\"CXR\",\"HMD\"],\n",
    "    \"NIC\": [\"HND\",\"GTM\",\"SLV\"],\n",
    "    \"NZL\": [\"AUS\"],\n",
    "    \"OMN\": [\"QAT\",\"ARE\",\"BHR\"],\n",
    "    \"PCN\": [\"TKL\",\"NIU\",\"NFK\"],\n",
    "    \"PRI\": [\"PAN\",\"TTO\",\"JAM\"],\n",
    "    \"PRK\": [\"VNM\",\"LAO\",\"MMR\"],\n",
    "    \"PRY\": [\"BOL\",\"PER\",\"URY\"],\n",
    "    \"PYF\": [\"WSM\"],\n",
    "    \"QAT\": [\"KWT\",\"BHR\",\"ARE\"],\n",
    "    \"REU\": [\"MYT\",\"MUS\",\"COM\"],\n",
    "    \"SAU\": [\"ARE\",\"QAT\",\"ARE\"],\n",
    "    \"SGS\": [\"FLK\",\"BVT\",\"ATF\"],\n",
    "    \"SHN\": [\"FLK\",\"PCN\",\"NFK\"],\n",
    "    \"SJM\": [\"GRL\",\"FRO\",\"ISL\"],\n",
    "    \"SLB\": [\"VUT\",\"PNG\",\"FJI\"],\n",
    "    \"SMR\": [\"CYP\",\"LIE\",\"MCO\"],\n",
    "    \"SPM\": [\"BMU\",\"JEY\",\"GGY\"],\n",
    "    \"SSD\": [\"TCD\",\"CAF\",\"ERI\"],\n",
    "    \"SXM\": [\"ABW\",\"CUW\",\"MAF\"],\n",
    "    \"SYR\": [\"IRQ\",\"JOR\",\"LBN\"],\n",
    "    \"TCA\": [\"CYM\",\"VGB\",\"ABW\"],\n",
    "    \"TCD\": [\"CAF\",\"NER\",\"SSD\"],\n",
    "    \"TKM\": [\"UZB\",\"KAZ\",\"AZE\"],\n",
    "    \"TWN\": [\"KOR\",\"JPN\",\"HKG\"],\n",
    "    \"UMI\": [\"PCN\",\"NFK\",\"CXR\"],\n",
    "    \"UZB\": [\"KAZ\",\"TKM\",\"KGZ\"],\n",
    "    \"VAT\": [\"SMR\",\"MCO\",\"CYP\"],\n",
    "    \"VCT\": [\"LCA\",\"DMA\",\"ATG\"],\n",
    "    \"VEN\": [\"COL\",\"ECU\",\"PER\"],\n",
    "    \"VGB\": [\"CYM\",\"TCA\",\"ABW\"],\n",
    "    \"VIR\": [\"VGB\",\"ABW\",\"CUW\"],\n",
    "    \"YEM\": [\"SOM\",\"SDN\",\"ERI\"],\n",
    "\n",
    "}"
   ]
  },
  {
   "cell_type": "code",
   "execution_count": 130,
   "metadata": {
    "colab": {
     "base_uri": "https://localhost:8080/"
    },
    "id": "EKifDzOUmh2M",
    "outputId": "086b62ad-e1ba-4599-f27c-e665ad3f1f13"
   },
   "outputs": [
    {
     "name": "stderr",
     "output_type": "stream",
     "text": [
      "C:\\Users\\seabr\\AppData\\Local\\Temp\\ipykernel_72612\\2896698647.py:8: FutureWarning: Calling float on a single element Series is deprecated and will raise a TypeError in the future. Use float(ser.iloc[0]) instead\n",
      "  z = float(labourForce_df.loc[labourForce_df[\"Country Code\"] == i]['%ECW ILO'])\n"
     ]
    },
    {
     "name": "stdout",
     "output_type": "stream",
     "text": [
      "error in DMA\n"
     ]
    }
   ],
   "source": [
    "for i in [0,3]:\n",
    "  for idx, row in labourForce_df.iterrows():\n",
    "    if pd.isna(row['%ECW ILO']):\n",
    "      try:\n",
    "        code = row[\"Country Code\"]\n",
    "        ave = []\n",
    "        for i in similar_iso3[code]:\n",
    "          z = float(labourForce_df.loc[labourForce_df[\"Country Code\"] == i]['%ECW ILO'])\n",
    "          if not pd.isna(z):\n",
    "            ave.append(z)\n",
    "        labourForce_df.at[idx,'%ECW ILO'] = sum(ave)/len(ave)\n",
    "      except:\n",
    "        print('error in',code )\n",
    "        pass"
   ]
  },
  {
   "cell_type": "code",
   "execution_count": 131,
   "metadata": {
    "colab": {
     "base_uri": "https://localhost:8080/"
    },
    "id": "a_BKxAMUvGf9",
    "outputId": "86bae107-26b7-4dd1-ef57-28d9c21724e7"
   },
   "outputs": [
    {
     "name": "stderr",
     "output_type": "stream",
     "text": [
      "C:\\Users\\seabr\\AppData\\Local\\Temp\\ipykernel_72612\\2451342251.py:8: FutureWarning: Calling float on a single element Series is deprecated and will raise a TypeError in the future. Use float(ser.iloc[0]) instead\n",
      "  z = float(labourForce_df.loc[labourForce_df[\"Country Code\"] == i]['%ECW Poll'])\n"
     ]
    },
    {
     "name": "stdout",
     "output_type": "stream",
     "text": [
      "error in DMA\n"
     ]
    }
   ],
   "source": [
    "for i in [0,3]:\n",
    "  for idx, row in labourForce_df.iterrows():\n",
    "    if pd.isna(row['%ECW Poll']):\n",
    "      try:\n",
    "        code = row[\"Country Code\"]\n",
    "        ave = []\n",
    "        for i in similar_iso3[code]:\n",
    "          z = float(labourForce_df.loc[labourForce_df[\"Country Code\"] == i]['%ECW Poll'])\n",
    "          if not pd.isna(z):\n",
    "            ave.append(z)\n",
    "        labourForce_df.at[idx,'%ECW Poll'] = sum(ave)/len(ave)\n",
    "      except:\n",
    "        print('error in',code )\n",
    "        pass"
   ]
  },
  {
   "cell_type": "code",
   "execution_count": 132,
   "metadata": {
    "id": "1fcRrdSMvP7w"
   },
   "outputs": [],
   "source": [
    "#labourForce_df # final full projection datafarme"
   ]
  },
  {
   "cell_type": "code",
   "execution_count": 133,
   "metadata": {
    "id": "RJhsWSEsmiaH"
   },
   "outputs": [],
   "source": [
    "labourForce_df['ECW ILO'] = (labourForce_df['%ECW ILO'] * labourForce_df[2024])\n",
    "labourForce_df['ECW Poll'] = (labourForce_df['%ECW Poll'] * labourForce_df[2024])"
   ]
  },
  {
   "cell_type": "code",
   "execution_count": 134,
   "metadata": {
    "colab": {
     "base_uri": "https://localhost:8080/"
    },
    "id": "5a1Tqi4tSj7B",
    "outputId": "69bc41a4-b5b2-4c5e-87a5-1bec70dea679"
   },
   "outputs": [
    {
     "name": "stdout",
     "output_type": "stream",
     "text": [
      "1.28e+09\n"
     ]
    }
   ],
   "source": [
    "print(f\"{labourForce_df['ECW ILO'].sum(skipna=True):.2e}\")"
   ]
  },
  {
   "cell_type": "code",
   "execution_count": 135,
   "metadata": {
    "id": "Lc4MXHenSrgH"
   },
   "outputs": [],
   "source": [
    "#labourForce_df"
   ]
  },
  {
   "cell_type": "markdown",
   "metadata": {
    "id": "lKMPNxrWrce6"
   },
   "source": [
    "# Final Result\n",
    "###### This table is the relevant information we will be using as the total number of ECWs in a given region. This contains both a lower and an upper bound. The lower bound is sourced by an internal census between our team and the project hosts, ALLFED, to evaluate the cirticallity of ISCO-08 Level 4 codes. The Upper bound is similarly derived however the essential ISCO-08 Level 2 job codes were pulled from an ILO study on the effects of COVID-19."
   ]
  },
  {
   "cell_type": "code",
   "execution_count": 136,
   "metadata": {
    "colab": {
     "base_uri": "https://localhost:8080/",
     "height": 770
    },
    "id": "0b24874d",
    "outputId": "7116b218-a931-431a-851b-d7a6e89bdb3d"
   },
   "outputs": [
    {
     "data": {
      "text/html": [
       "<div>\n",
       "<style scoped>\n",
       "    .dataframe tbody tr th:only-of-type {\n",
       "        vertical-align: middle;\n",
       "    }\n",
       "\n",
       "    .dataframe tbody tr th {\n",
       "        vertical-align: top;\n",
       "    }\n",
       "\n",
       "    .dataframe thead th {\n",
       "        text-align: right;\n",
       "    }\n",
       "</style>\n",
       "<table border=\"1\" class=\"dataframe\">\n",
       "  <thead>\n",
       "    <tr style=\"text-align: right;\">\n",
       "      <th></th>\n",
       "      <th>Region</th>\n",
       "      <th>ECW ILO</th>\n",
       "      <th>ECW Poll</th>\n",
       "    </tr>\n",
       "  </thead>\n",
       "  <tbody>\n",
       "    <tr>\n",
       "      <th>0</th>\n",
       "      <td>Australia and New Zealand</td>\n",
       "      <td>5.272682e+06</td>\n",
       "      <td>2.366326e+06</td>\n",
       "    </tr>\n",
       "    <tr>\n",
       "      <th>1</th>\n",
       "      <td>Caribbean</td>\n",
       "      <td>6.727061e+06</td>\n",
       "      <td>2.244354e+06</td>\n",
       "    </tr>\n",
       "    <tr>\n",
       "      <th>2</th>\n",
       "      <td>Central America</td>\n",
       "      <td>3.341591e+07</td>\n",
       "      <td>1.092332e+07</td>\n",
       "    </tr>\n",
       "    <tr>\n",
       "      <th>3</th>\n",
       "      <td>Central Asia</td>\n",
       "      <td>9.548740e+06</td>\n",
       "      <td>4.395989e+06</td>\n",
       "    </tr>\n",
       "    <tr>\n",
       "      <th>4</th>\n",
       "      <td>Eastern Africa</td>\n",
       "      <td>5.430956e+07</td>\n",
       "      <td>2.573874e+07</td>\n",
       "    </tr>\n",
       "    <tr>\n",
       "      <th>5</th>\n",
       "      <td>Eastern Asia</td>\n",
       "      <td>3.290157e+08</td>\n",
       "      <td>1.340928e+08</td>\n",
       "    </tr>\n",
       "    <tr>\n",
       "      <th>6</th>\n",
       "      <td>Eastern Europe</td>\n",
       "      <td>4.685251e+07</td>\n",
       "      <td>2.304591e+07</td>\n",
       "    </tr>\n",
       "    <tr>\n",
       "      <th>7</th>\n",
       "      <td>Melanesia</td>\n",
       "      <td>1.612686e+06</td>\n",
       "      <td>6.193071e+05</td>\n",
       "    </tr>\n",
       "    <tr>\n",
       "      <th>8</th>\n",
       "      <td>Micronesia</td>\n",
       "      <td>5.864985e+04</td>\n",
       "      <td>2.246516e+04</td>\n",
       "    </tr>\n",
       "    <tr>\n",
       "      <th>9</th>\n",
       "      <td>Middle Africa</td>\n",
       "      <td>1.964237e+07</td>\n",
       "      <td>9.369414e+06</td>\n",
       "    </tr>\n",
       "    <tr>\n",
       "      <th>10</th>\n",
       "      <td>Northern Africa</td>\n",
       "      <td>2.908319e+07</td>\n",
       "      <td>1.201742e+07</td>\n",
       "    </tr>\n",
       "    <tr>\n",
       "      <th>11</th>\n",
       "      <td>Northern America</td>\n",
       "      <td>5.957496e+07</td>\n",
       "      <td>2.702150e+07</td>\n",
       "    </tr>\n",
       "    <tr>\n",
       "      <th>12</th>\n",
       "      <td>Northern Europe</td>\n",
       "      <td>1.637616e+07</td>\n",
       "      <td>7.468512e+06</td>\n",
       "    </tr>\n",
       "    <tr>\n",
       "      <th>13</th>\n",
       "      <td>Polynesia</td>\n",
       "      <td>8.172622e+04</td>\n",
       "      <td>3.356925e+04</td>\n",
       "    </tr>\n",
       "    <tr>\n",
       "      <th>14</th>\n",
       "      <td>South America</td>\n",
       "      <td>8.384914e+07</td>\n",
       "      <td>2.935558e+07</td>\n",
       "    </tr>\n",
       "    <tr>\n",
       "      <th>15</th>\n",
       "      <td>South-eastern Asia</td>\n",
       "      <td>1.387516e+08</td>\n",
       "      <td>5.437291e+07</td>\n",
       "    </tr>\n",
       "    <tr>\n",
       "      <th>16</th>\n",
       "      <td>Southern Africa</td>\n",
       "      <td>1.051015e+07</td>\n",
       "      <td>3.414562e+06</td>\n",
       "    </tr>\n",
       "    <tr>\n",
       "      <th>17</th>\n",
       "      <td>Southern Asia</td>\n",
       "      <td>2.914376e+08</td>\n",
       "      <td>1.527745e+08</td>\n",
       "    </tr>\n",
       "    <tr>\n",
       "      <th>18</th>\n",
       "      <td>Southern Europe</td>\n",
       "      <td>2.415439e+07</td>\n",
       "      <td>1.023903e+07</td>\n",
       "    </tr>\n",
       "    <tr>\n",
       "      <th>19</th>\n",
       "      <td>Western Africa</td>\n",
       "      <td>4.738845e+07</td>\n",
       "      <td>1.725012e+07</td>\n",
       "    </tr>\n",
       "    <tr>\n",
       "      <th>20</th>\n",
       "      <td>Western Asia</td>\n",
       "      <td>3.902376e+07</td>\n",
       "      <td>1.594039e+07</td>\n",
       "    </tr>\n",
       "    <tr>\n",
       "      <th>21</th>\n",
       "      <td>Western Europe</td>\n",
       "      <td>3.114729e+07</td>\n",
       "      <td>1.493919e+07</td>\n",
       "    </tr>\n",
       "    <tr>\n",
       "      <th>22</th>\n",
       "      <td>not found</td>\n",
       "      <td>2.293691e+04</td>\n",
       "      <td>1.017948e+04</td>\n",
       "    </tr>\n",
       "  </tbody>\n",
       "</table>\n",
       "</div>"
      ],
      "text/plain": [
       "                       Region       ECW ILO      ECW Poll\n",
       "0   Australia and New Zealand  5.272682e+06  2.366326e+06\n",
       "1                   Caribbean  6.727061e+06  2.244354e+06\n",
       "2             Central America  3.341591e+07  1.092332e+07\n",
       "3                Central Asia  9.548740e+06  4.395989e+06\n",
       "4              Eastern Africa  5.430956e+07  2.573874e+07\n",
       "5                Eastern Asia  3.290157e+08  1.340928e+08\n",
       "6              Eastern Europe  4.685251e+07  2.304591e+07\n",
       "7                   Melanesia  1.612686e+06  6.193071e+05\n",
       "8                  Micronesia  5.864985e+04  2.246516e+04\n",
       "9               Middle Africa  1.964237e+07  9.369414e+06\n",
       "10            Northern Africa  2.908319e+07  1.201742e+07\n",
       "11           Northern America  5.957496e+07  2.702150e+07\n",
       "12            Northern Europe  1.637616e+07  7.468512e+06\n",
       "13                  Polynesia  8.172622e+04  3.356925e+04\n",
       "14              South America  8.384914e+07  2.935558e+07\n",
       "15         South-eastern Asia  1.387516e+08  5.437291e+07\n",
       "16            Southern Africa  1.051015e+07  3.414562e+06\n",
       "17              Southern Asia  2.914376e+08  1.527745e+08\n",
       "18            Southern Europe  2.415439e+07  1.023903e+07\n",
       "19             Western Africa  4.738845e+07  1.725012e+07\n",
       "20               Western Asia  3.902376e+07  1.594039e+07\n",
       "21             Western Europe  3.114729e+07  1.493919e+07\n",
       "22                  not found  2.293691e+04  1.017948e+04"
      ]
     },
     "metadata": {},
     "output_type": "display_data"
    }
   ],
   "source": [
    "regional_labourForce_df = labourForce_df.groupby('Region')[['ECW ILO', 'ECW Poll']].sum().reset_index()\n",
    "display(regional_labourForce_df)"
   ]
  },
  {
   "cell_type": "code",
   "execution_count": null,
   "metadata": {
    "id": "usBBrXbT_DWM"
   },
   "outputs": [],
   "source": []
  },
  {
   "cell_type": "code",
   "execution_count": 137,
   "metadata": {
    "id": "dd76cc84"
   },
   "outputs": [],
   "source": [
    "# labourForce_df.to_csv('ECW_byCountry.csv', index=False)\n",
    "# files.download('ECW_byCountry.csv')"
   ]
  }
 ],
 "metadata": {
  "colab": {
   "provenance": []
  },
  "kernelspec": {
   "display_name": "Python 3 (ipykernel)",
   "language": "python",
   "name": "python3"
  },
  "language_info": {
   "codemirror_mode": {
    "name": "ipython",
    "version": 3
   },
   "file_extension": ".py",
   "mimetype": "text/x-python",
   "name": "python",
   "nbconvert_exporter": "python",
   "pygments_lexer": "ipython3",
   "version": "3.13.7"
  }
 },
 "nbformat": 4,
 "nbformat_minor": 4
}
